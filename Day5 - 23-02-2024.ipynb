{
 "cells": [
  {
   "cell_type": "code",
   "execution_count": 26,
   "id": "175fbbc0",
   "metadata": {},
   "outputs": [
    {
     "name": "stdout",
     "output_type": "stream",
     "text": [
      "afdg5tg\n",
      "fgtad5g"
     ]
    }
   ],
   "source": [
    "#Print odd and even index Brute Force Approach\n",
    "s=input()\n",
    "if len(s)%2==0:\n",
    "    for i in range(1,len(s)+1,2):\n",
    "        print(s[i],end=\"\")\n",
    "    for i in range(0,len(s),2):\n",
    "        print(s[i],end=\"\")\n",
    "else:\n",
    "    for i in range(1,len(s),2):\n",
    "        print(s[i],end=\"\")\n",
    "    for i in range(0,len(s)+1,2):\n",
    "        print(s[i],end=\"\")"
   ]
  },
  {
   "cell_type": "code",
   "execution_count": 31,
   "id": "473fc69c",
   "metadata": {},
   "outputs": [
    {
     "name": "stdout",
     "output_type": "stream",
     "text": [
      "afdg5tg\n",
      "fgtad5g\n"
     ]
    }
   ],
   "source": [
    "#Print odd and even index Optimized Approach\n",
    "s=input()\n",
    "even=\"\"\n",
    "odd=\"\"\n",
    "for i in range(len(s)):\n",
    "    if i%2==0:\n",
    "        even+=s[i]\n",
    "    else:\n",
    "        odd+=s[i]\n",
    "print(odd+even)"
   ]
  },
  {
   "cell_type": "code",
   "execution_count": 28,
   "id": "909229f6",
   "metadata": {},
   "outputs": [
    {
     "name": "stdout",
     "output_type": "stream",
     "text": [
      "afdg5tg\n",
      "fgtad5g"
     ]
    }
   ],
   "source": [
    "#Print odd and even index Optimized Approach\n",
    "s=input()\n",
    "print(s[1::2],end=\"\")\n",
    "print(s[::2],end=\"\")"
   ]
  },
  {
   "cell_type": "code",
   "execution_count": 33,
   "id": "5682adcf",
   "metadata": {},
   "outputs": [
    {
     "name": "stdout",
     "output_type": "stream",
     "text": [
      "hello\n",
      "l\n",
      "2\n"
     ]
    }
   ],
   "source": [
    "#Occurence of a Character\n",
    "s=input()\n",
    "c=input()\n",
    "count=0\n",
    "for i in s:\n",
    "    if i==c:\n",
    "        count+=1\n",
    "print(count)"
   ]
  },
  {
   "cell_type": "code",
   "execution_count": 34,
   "id": "9405fac2",
   "metadata": {},
   "outputs": [
    {
     "name": "stdout",
     "output_type": "stream",
     "text": [
      "hello\n",
      "l\n",
      "1\n"
     ]
    }
   ],
   "source": [
    "#Occurence of a Character at even index\n",
    "s=input()\n",
    "c=input()\n",
    "count=0\n",
    "for i in range(len(s)):\n",
    "    if i%2==0 and s[i]==c:\n",
    "        count+=1\n",
    "print(count)"
   ]
  },
  {
   "cell_type": "code",
   "execution_count": 37,
   "id": "32f80253",
   "metadata": {},
   "outputs": [
    {
     "name": "stdout",
     "output_type": "stream",
     "text": [
      "hello\n",
      "l\n",
      "1\n"
     ]
    }
   ],
   "source": [
    "#Occurence of a Character at odd index\n",
    "s=input()\n",
    "c=input()\n",
    "count=0\n",
    "for i in range(len(s)):\n",
    "    if i%2==1 and s[i]==c:\n",
    "        count+=1\n",
    "print(count)"
   ]
  },
  {
   "cell_type": "code",
   "execution_count": 39,
   "id": "dc94ef45",
   "metadata": {},
   "outputs": [
    {
     "name": "stdout",
     "output_type": "stream",
     "text": [
      "AeIouU\n",
      "Yes\n"
     ]
    }
   ],
   "source": [
    "#Vowels in a String\n",
    "vowels=['a','e','i','o','u','A','E','I','O','U']\n",
    "s=input()\n",
    "c=0\n",
    "for i in s:\n",
    "    if i in vowels:\n",
    "        c+=1\n",
    "    else:\n",
    "        break\n",
    "\n",
    "if c==len(s):\n",
    "    print(\"Yes\")\n",
    "else:\n",
    "    print(\"No\")"
   ]
  },
  {
   "cell_type": "code",
   "execution_count": 40,
   "id": "95fc35ec",
   "metadata": {},
   "outputs": [
    {
     "name": "stdout",
     "output_type": "stream",
     "text": [
      "AeIoU\n",
      "Yes\n"
     ]
    }
   ],
   "source": [
    "#Vowels in a String\n",
    "vowels=['a','e','i','o','u','A','E','I','O','U']\n",
    "s=input()\n",
    "c=0\n",
    "for i in s:\n",
    "    if i not in vowels:\n",
    "        c+=1\n",
    "        break\n",
    "    else:\n",
    "        continue\n",
    "\n",
    "if c==1:\n",
    "    print(\"No\")\n",
    "else:\n",
    "    print(\"Yes\")"
   ]
  },
  {
   "cell_type": "code",
   "execution_count": 41,
   "id": "b1b3e8bc",
   "metadata": {},
   "outputs": [
    {
     "name": "stdout",
     "output_type": "stream",
     "text": [
      "09876543\n",
      "Yes\n"
     ]
    }
   ],
   "source": [
    "#Digits in a String\n",
    "s=input()\n",
    "digits=\"1234567890\"\n",
    "for i in s:\n",
    "    if i not in s:\n",
    "        print(\"No\")\n",
    "        break\n",
    "else:\n",
    "    print(\"Yes\")"
   ]
  },
  {
   "cell_type": "code",
   "execution_count": 43,
   "id": "b7695e4c",
   "metadata": {},
   "outputs": [
    {
     "name": "stdout",
     "output_type": "stream",
     "text": [
      "09876rfghj\n",
      "No\n"
     ]
    }
   ],
   "source": [
    "#Digits in a String\n",
    "s=input()\n",
    "digits=\"1234567890\"\n",
    "c=0\n",
    "for i in s:\n",
    "    if i not in digits:\n",
    "        c+=1\n",
    "        break\n",
    "if c==1:\n",
    "    print(\"No\")\n",
    "else:\n",
    "    print(\"Yes\")"
   ]
  },
  {
   "cell_type": "code",
   "execution_count": 44,
   "id": "d945b046",
   "metadata": {},
   "outputs": [
    {
     "name": "stdout",
     "output_type": "stream",
     "text": [
      "09876jkl\n",
      "No\n"
     ]
    }
   ],
   "source": [
    "#Digits in a String\n",
    "s=input()\n",
    "digits=\"1234567890\"\n",
    "c=0\n",
    "for i in s:\n",
    "    if i in digits:\n",
    "        c+=1\n",
    "    else:\n",
    "        break\n",
    "if c==len(s):\n",
    "    print(\"Yes\")\n",
    "else:\n",
    "    print(\"No\")"
   ]
  },
  {
   "cell_type": "code",
   "execution_count": 47,
   "id": "55079a62",
   "metadata": {},
   "outputs": [
    {
     "name": "stdout",
     "output_type": "stream",
     "text": [
      "09876fghjk\n",
      "No\n"
     ]
    }
   ],
   "source": [
    "#Digits in a String\n",
    "s=input()\n",
    "digits=\"1234567890\"\n",
    "c=0\n",
    "for i in s:\n",
    "    if not i.isdigit():\n",
    "        c+=1\n",
    "        break\n",
    "if c==1:\n",
    "    print(\"No\")\n",
    "else:\n",
    "    print(\"Yes\")"
   ]
  },
  {
   "cell_type": "code",
   "execution_count": 50,
   "id": "7f88b80e",
   "metadata": {},
   "outputs": [
    {
     "name": "stdout",
     "output_type": "stream",
     "text": [
      "aBxbbiAssPw*1234&\n",
      "3 8\n"
     ]
    }
   ],
   "source": [
    "#Vowels and Consonant Count\n",
    "vowels=['a','e','i','o','u','A','E','I','O','U']\n",
    "s=input()\n",
    "v,c=0,0\n",
    "for i in s:\n",
    "    if i in vowels:\n",
    "        v+=1\n",
    "    elif i.isalpha():\n",
    "        c+=1\n",
    "    else:\n",
    "        continue\n",
    "print(f\"{v} {c}\")"
   ]
  },
  {
   "cell_type": "code",
   "execution_count": 58,
   "id": "762d2980",
   "metadata": {},
   "outputs": [
    {
     "name": "stdout",
     "output_type": "stream",
     "text": [
      "aaaaabbcdddehhhaaa\n",
      "a5b2c1d3e1h3a3\n"
     ]
    }
   ],
   "source": [
    "#Compress a String\n",
    "s=input()\n",
    "res=\"\"\n",
    "l=0\n",
    "while l<len(s):\n",
    "    c=1\n",
    "    for i in range(l+1,len(s)):\n",
    "        if s[l]==s[i]:\n",
    "            c+=1\n",
    "        else:\n",
    "            break\n",
    "    res+=s[l]\n",
    "    res+=str(c)\n",
    "    l+=c\n",
    "\n",
    "print(res)"
   ]
  },
  {
   "cell_type": "code",
   "execution_count": 60,
   "id": "aabab41c",
   "metadata": {},
   "outputs": [
    {
     "name": "stdout",
     "output_type": "stream",
     "text": [
      "aaaaabbcdddehhaaa\n",
      "a5b2c1d3e1h2a3\n"
     ]
    }
   ],
   "source": [
    "#Compress a String\n",
    "s=input()\n",
    "c=1\n",
    "r=\"\"\n",
    "for i in range(1,len(s)):\n",
    "    if s[i]==s[i-1]:\n",
    "        c=c+1\n",
    "    else:\n",
    "        r=r+s[i-1]\n",
    "        r=r+str(c)\n",
    "        c=1\n",
    "r=r+s[len(s)-1]+str(c)\n",
    "print(r)"
   ]
  },
  {
   "cell_type": "code",
   "execution_count": 63,
   "id": "c3e15e30",
   "metadata": {},
   "outputs": [
    {
     "name": "stdout",
     "output_type": "stream",
     "text": [
      "4\n",
      "Hi\n",
      "1 1 1\n",
      "Hello World\n",
      "2 3 7\n",
      "  Exception\n",
      "1 4 5\n",
      "Hi there\n",
      "2 3 4\n"
     ]
    }
   ],
   "source": [
    "#Words Vowels and Consonants\n",
    "t=int(input())\n",
    "vowels=['a','e','i','o','u','A','E','I','O','U']\n",
    "for i in range(t):\n",
    "    s=input()\n",
    "    l=list(s.split())\n",
    "    v,c=0,0\n",
    "    for i in s:\n",
    "        if i in vowels:\n",
    "            v+=1\n",
    "        elif i.isalpha():\n",
    "            c+=1\n",
    "        else:\n",
    "            continue\n",
    "    print(f\"{len(l)} {v} {c}\")"
   ]
  },
  {
   "cell_type": "code",
   "execution_count": 69,
   "id": "8be66d0d",
   "metadata": {},
   "outputs": [
    {
     "name": "stdout",
     "output_type": "stream",
     "text": [
      "2\n",
      "data structures\n",
      "srucures\n",
      "smart interviews\n",
      "ineview\n"
     ]
    }
   ],
   "source": [
    "#Guess the problem\n",
    "for i in range(int(input())):\n",
    "    a,b=map(str,input().split())\n",
    "    for i in a:\n",
    "        b=b.replace(i,\"\")\n",
    "    print(b)"
   ]
  },
  {
   "cell_type": "code",
   "execution_count": 87,
   "id": "97778e48",
   "metadata": {},
   "outputs": [
    {
     "name": "stdout",
     "output_type": "stream",
     "text": [
      "2\n",
      "smart 3\n",
      "vpduw\n",
      "interviews 10\n",
      "sxdobfsogc\n"
     ]
    }
   ],
   "source": [
    "#Guess the Problem\n",
    "for i in range(int(input())):\n",
    "    s,n=map(str,input().split())\n",
    "    res=\"\"\n",
    "    n=int(n)\n",
    "    for j in s:\n",
    "        if (ord(j)+n)>122:\n",
    "            res+=chr(96+(ord(j)+n)-122)\n",
    "        else:\n",
    "            res=res+chr(ord(j)+n)\n",
    "    print(res)"
   ]
  },
  {
   "cell_type": "code",
   "execution_count": 95,
   "id": "bc8ce938",
   "metadata": {},
   "outputs": [],
   "source": [
    "class classa:\n",
    "    def __init__(self,n):\n",
    "        self.n=n\n",
    "    def factorial(self):\n",
    "        fact=1\n",
    "        for i in range(2,self.n+1):\n",
    "            fact*=i\n",
    "        print(fact)"
   ]
  },
  {
   "cell_type": "code",
   "execution_count": 96,
   "id": "14f796a0",
   "metadata": {},
   "outputs": [],
   "source": [
    "ob=classa(5)"
   ]
  },
  {
   "cell_type": "code",
   "execution_count": 97,
   "id": "57a87a10",
   "metadata": {},
   "outputs": [
    {
     "name": "stdout",
     "output_type": "stream",
     "text": [
      "120\n"
     ]
    }
   ],
   "source": [
    "ob.factorial()"
   ]
  },
  {
   "cell_type": "code",
   "execution_count": 104,
   "id": "5b1a2652",
   "metadata": {},
   "outputs": [],
   "source": [
    "class classa:\n",
    "    def factorial(self,n):\n",
    "        if n==1:\n",
    "            return 1\n",
    "        else:\n",
    "            return n*(self.factorial(n-1))\n"
   ]
  },
  {
   "cell_type": "code",
   "execution_count": 106,
   "id": "4aad8acd",
   "metadata": {},
   "outputs": [],
   "source": [
    "ob1=classa()"
   ]
  },
  {
   "cell_type": "code",
   "execution_count": 109,
   "id": "ed4f3f31",
   "metadata": {},
   "outputs": [
    {
     "name": "stdout",
     "output_type": "stream",
     "text": [
      "120\n"
     ]
    }
   ],
   "source": [
    "print(ob1.factorial(5))"
   ]
  },
  {
   "cell_type": "code",
   "execution_count": 125,
   "id": "93e45252",
   "metadata": {},
   "outputs": [],
   "source": [
    "class classa:\n",
    "    def __init__(self,n):\n",
    "        self.n=n\n",
    "    def factorial(self):\n",
    "        print(self.fact(self.n))\n",
    "    def fact(self,n):\n",
    "        if n==1:\n",
    "            return 1\n",
    "        else:\n",
    "            return n*(self.fact(n-1))\n"
   ]
  },
  {
   "cell_type": "code",
   "execution_count": 126,
   "id": "dab6c00f",
   "metadata": {},
   "outputs": [],
   "source": [
    "ob=classa(5)"
   ]
  },
  {
   "cell_type": "code",
   "execution_count": 127,
   "id": "498f3072",
   "metadata": {},
   "outputs": [
    {
     "name": "stdout",
     "output_type": "stream",
     "text": [
      "120\n"
     ]
    }
   ],
   "source": [
    "ob.factorial()"
   ]
  },
  {
   "cell_type": "code",
   "execution_count": null,
   "id": "0bceaec6",
   "metadata": {},
   "outputs": [],
   "source": []
  }
 ],
 "metadata": {
  "kernelspec": {
   "display_name": "Python 3 (ipykernel)",
   "language": "python",
   "name": "python3"
  },
  "language_info": {
   "codemirror_mode": {
    "name": "ipython",
    "version": 3
   },
   "file_extension": ".py",
   "mimetype": "text/x-python",
   "name": "python",
   "nbconvert_exporter": "python",
   "pygments_lexer": "ipython3",
   "version": "3.9.13"
  }
 },
 "nbformat": 4,
 "nbformat_minor": 5
}
